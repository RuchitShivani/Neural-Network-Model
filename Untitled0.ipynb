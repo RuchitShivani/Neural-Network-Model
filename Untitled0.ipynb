{
  "nbformat": 4,
  "nbformat_minor": 0,
  "metadata": {
    "colab": {
      "provenance": [],
      "authorship_tag": "ABX9TyNLC69rICNiBhsuDgSRl6nP",
      "include_colab_link": true
    },
    "kernelspec": {
      "name": "python3",
      "display_name": "Python 3"
    },
    "language_info": {
      "name": "python"
    }
  },
  "cells": [
    {
      "cell_type": "markdown",
      "metadata": {
        "id": "view-in-github",
        "colab_type": "text"
      },
      "source": [
        "<a href=\"https://colab.research.google.com/github/RuchitShivani/Neural-Network-Model/blob/main/Untitled0.ipynb\" target=\"_parent\"><img src=\"https://colab.research.google.com/assets/colab-badge.svg\" alt=\"Open In Colab\"/></a>"
      ]
    },
    {
      "cell_type": "code",
      "execution_count": 2,
      "metadata": {
        "id": "xYcAEPlHeR-7",
        "colab": {
          "base_uri": "https://localhost:8080/"
        },
        "outputId": "b6ac8f16-8802-4d53-aa7f-288cf93e0792"
      },
      "outputs": [
        {
          "output_type": "stream",
          "name": "stdout",
          "text": [
            "\n",
            "Relevant Documents:\n",
            "Score: 0.1143 - The Art of Minimalist Living.txt\n",
            "Score: 0.1142 - Artificial Intelligence in Healthca.txt\n",
            "Score: 0.1138 - The Evolution of Social Media.txt\n",
            "Score: 0.1131 - The Rise of Electric Vehicles.txt\n",
            "Score: 0.1106 - Deep-Sea Exploration and Its Myster.txt\n"
          ]
        }
      ],
      "source": [
        "import numpy as np\n",
        "import os\n",
        "from sklearn.feature_extraction.text import TfidfVectorizer\n",
        "from sklearn.metrics.pairwise import cosine_similarity\n",
        "\n",
        "# Activation function and derivative for backpropagation\n",
        "def sigmoid(x):\n",
        "    return 1 / (1 + np.exp(-x))\n",
        "\n",
        "def sigmoid_derivative(x):\n",
        "    return x * (1 - x)\n",
        "\n",
        "folder_path = \"/content/Tu dikh ja\"\n",
        "\n",
        "documents = []\n",
        "document_names = []\n",
        "\n",
        "for file_name in os.listdir(folder_path):\n",
        "    if file_name.endswith(\".txt\"):  # Process only text files\n",
        "        file_path = os.path.join(folder_path, file_name)\n",
        "        with open(file_path, \"r\", encoding=\"utf-8\") as file:\n",
        "            document_content = file.read()\n",
        "            documents.append(document_content)\n",
        "            document_names.append(file_name)\n",
        "\n",
        "if documents:\n",
        "    # Convert text data into numerical feature vectors using TF-IDF\n",
        "    vectorizer = TfidfVectorizer()\n",
        "    X = vectorizer.fit_transform(documents).toarray()\n",
        "\n",
        "    # Set seed for reproducibility\n",
        "    np.random.seed(42)\n",
        "\n",
        "    # Initialize neural network parameters\n",
        "    input_layer_neurons = X.shape[1]  # Number of features\n",
        "    hidden_layer_neurons = 5  # Number of hidden layer neurons\n",
        "    output_layer_neurons = 1  # Binary classification (1 output neuron)\n",
        "    # Initialize weights and biases\n",
        "    weights_input_hidden = np.random.uniform(size=(input_layer_neurons, hidden_layer_neurons))\n",
        "    weights_hidden_output = np.random.uniform(size=(hidden_layer_neurons, output_layer_neurons))\n",
        "    bias_hidden = np.random.uniform(size=(1, hidden_layer_neurons))\n",
        "    bias_output = np.random.uniform(size=(1, output_layer_neurons))\n",
        "\n",
        "    # Training parameters\n",
        "    learning_rate = 0.5\n",
        "    epochs = 10000\n",
        "\n",
        "    # Simulated labels (for demonstration, randomly generated)\n",
        "    y = np.random.randint(0, 2, size=(X.shape[0], 1))  # Binary Labels: 0 or 1\n",
        "\n",
        "    # Training loop with backpropagation\n",
        "    for epoch in range(epochs):\n",
        "        # ---- Forward Propagation ----\n",
        "        hidden_layer_input = np.dot(X, weights_input_hidden) + bias_hidden\n",
        "        hidden_layer_output = sigmoid(hidden_layer_input)\n",
        "\n",
        "        output_layer_input = np.dot(hidden_layer_output, weights_hidden_output) + bias_output\n",
        "        output_layer_output = sigmoid(output_layer_input)\n",
        "\n",
        "        # ---- Compute Error ----\n",
        "        error = y - output_layer_output  # Difference between actual and predicted values\n",
        "\n",
        "        # ---- Backpropagation ----\n",
        "        d_output = error * sigmoid_derivative(output_layer_output)  # Gradient at output layer\n",
        "        error_hidden = d_output.dot(weights_hidden_output.T)  # Backpropagate error to hidden layer\n",
        "        d_hidden = error_hidden * sigmoid_derivative(hidden_layer_output)  # Gradient at hidden layer\n",
        "\n",
        "        # ---- Update Weights and Biases ----\n",
        "        weights_hidden_output += hidden_layer_output.T.dot(d_output) * learning_rate\n",
        "        weights_input_hidden += X.T.dot(d_hidden) * learning_rate\n",
        "        bias_output += np.sum(d_output, axis=0, keepdims=True) * learning_rate\n",
        "        bias_hidden += np.sum(d_hidden, axis=0, keepdims=True) * learning_rate\n",
        "\n",
        "    # Function to retrieve relevant documents\n",
        "    def retrieve_documents(query, top_n=5):\n",
        "        query_vector = vectorizer.transform([query]).toarray()\n",
        "        relevance_scores = cosine_similarity(query_vector, X).flatten()\n",
        "        top_indices = relevance_scores.argsort()[-top_n:][::-1]\n",
        "\n",
        "        print(\"\\nRelevant Documents:\")\n",
        "        for index in top_indices:\n",
        "            print(f\"Score: {relevance_scores[index]:.4f} - {document_names[index]}\")\n",
        "\n",
        "        return [document_names[i] for i in top_indices]\n",
        "\n",
        "    # Example query after training\n",
        "    query = \"Information Retrieval\"\n",
        "    retrieved_docs = retrieve_documents(query)"
      ]
    }
  ]
}